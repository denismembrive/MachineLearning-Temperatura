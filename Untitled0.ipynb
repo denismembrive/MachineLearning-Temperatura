{
  "nbformat": 4,
  "nbformat_minor": 0,
  "metadata": {
    "colab": {
      "provenance": [],
      "authorship_tag": "ABX9TyM5qII4jHuBi1AEY3EFbiOE",
      "include_colab_link": true
    },
    "kernelspec": {
      "name": "python3",
      "display_name": "Python 3"
    },
    "language_info": {
      "name": "python"
    },
    "accelerator": "TPU"
  },
  "cells": [
    {
      "cell_type": "markdown",
      "metadata": {
        "id": "view-in-github",
        "colab_type": "text"
      },
      "source": [
        "<a href=\"https://colab.research.google.com/github/denismembrive/MachineLearning-Temperatura/blob/main/Untitled0.ipynb\" target=\"_parent\"><img src=\"https://colab.research.google.com/assets/colab-badge.svg\" alt=\"Open In Colab\"/></a>"
      ]
    },
    {
      "cell_type": "code",
      "execution_count": null,
      "metadata": {
        "id": "klD41W74CPJG"
      },
      "outputs": [],
      "source": [
        "import tensorflow as tf\n",
        "import numpy as np"
      ]
    },
    {
      "cell_type": "code",
      "source": [
        "celcius= np.array([-40,-10,0,8,15,22,38], dtype= float)\n",
        "fahrenheit= np.array([-40,14,32,46,59,72,100], dtype= float)"
      ],
      "metadata": {
        "id": "ajb8GJTcCeKe"
      },
      "execution_count": null,
      "outputs": []
    },
    {
      "cell_type": "code",
      "source": [
        "#Modelo con una capa\n",
        "#capa = tf.keras.layers.Dense(units = 1,input_shape =[1])\n",
        "#modelo = tf.keras.Sequential([capa])\n",
        "\n",
        "#Modelo con capas ocultas o internas ( 2 capas con tres neuronas)\n",
        "oculta1 = tf.keras.layers.Dense(units = 3,input_shape =[1])\n",
        "oculta2= tf.keras.layers.Dense(units = 3)\n",
        "salida = tf.keras.layers.Dense(units = 1)\n",
        "modelo = tf.keras.Sequential([oculta1, oculta2, salida])\n",
        "\n"
      ],
      "metadata": {
        "id": "Uv_RtNqNCn2s"
      },
      "execution_count": null,
      "outputs": []
    },
    {
      "cell_type": "code",
      "source": [
        "modelo.compile(\n",
        "    optimizer= tf.keras.optimizers.Adam(0.1),  # Propiedad de optimizador, algoritmoAdam (L enseña a la red a ajustar los pesos y los sesgos para que el modelo aprenda y no desaprenda)\n",
        "    # (0.1) es la taza de aprendizaje y nos dice que tanto ajustar los pesos y sesgos de nuestras neuronas\n",
        "    loss = 'mean_squared_error' # Funcion de perdida - Error cuadratico medio (Esta funcion considera que una poca cantidad de errores grandes es peor que una gran cantidad de errores pequeños)\n",
        ")"
      ],
      "metadata": {
        "id": "9ipGv-5uDQkQ"
      },
      "execution_count": null,
      "outputs": []
    },
    {
      "cell_type": "code",
      "source": [
        "print('Comenzamos el entrenamioento')\n",
        "    # Usamos la funcion fit, indicandoles los datos de entrada y los esperados, y ademas le decimos cuantas vueltas queremos que lo intente\n",
        "historial = modelo.fit(celcius, fahrenheit, epochs=1000, verbose=False)\n",
        "print('Modelo entrenado!')"
      ],
      "metadata": {
        "colab": {
          "base_uri": "https://localhost:8080/"
        },
        "id": "ME0Id8VRDV2O",
        "outputId": "b89550a9-4d07-46ae-bd64-4d24df21e2ce"
      },
      "execution_count": null,
      "outputs": [
        {
          "output_type": "stream",
          "name": "stdout",
          "text": [
            "Comenzamos el entrenamioento\n",
            "Modelo entrenado!\n"
          ]
        }
      ]
    },
    {
      "cell_type": "code",
      "source": [
        "#Resultados de la funcion de perdida( esto nos dice que tan mal estan los resultados en cada vuelta que dio el modelo)\n",
        "\n",
        "import matplotlib.pyplot as plt\n",
        "plt.xlabel(\"#Epoca\")\n",
        "plt.ylabel(\"Magnitud de perdida\")\n",
        "plt.plot(historial.history[\"loss\"])"
      ],
      "metadata": {
        "colab": {
          "base_uri": "https://localhost:8080/",
          "height": 470
        },
        "id": "yrPlRp1oFHQ6",
        "outputId": "44d0c9cc-de40-4a9b-b3d8-2eb496478546"
      },
      "execution_count": null,
      "outputs": [
        {
          "output_type": "execute_result",
          "data": {
            "text/plain": [
              "[<matplotlib.lines.Line2D at 0x78b5f91f44f0>]"
            ]
          },
          "metadata": {},
          "execution_count": 10
        },
        {
          "output_type": "display_data",
          "data": {
            "text/plain": [
              "<Figure size 640x480 with 1 Axes>"
            ],
            "image/png": "[encoded data removed]"
          },
          "metadata": {}
        }
      ]
    },
    {
      "cell_type": "code",
      "source": [
        "print(\"Hagamaos una prediccion!\")\n",
        "resultado = modelo.predict([100.0])\n",
        "print(\"El resultado es: \"+str(resultado)+\" Faranheit\")\n"
      ],
      "metadata": {
        "colab": {
          "base_uri": "https://localhost:8080/"
        },
        "id": "n6K3KmbjE0wY",
        "outputId": "431a9306-667e-40f9-ea98-797937a7e1c0"
      },
      "execution_count": null,
      "outputs": [
        {
          "output_type": "stream",
          "name": "stdout",
          "text": [
            "Hagamaos una prediccion!\n",
            "1/1 [==============================] - 0s 173ms/step\n",
            "El resultado es: [[211.74742]] Faranheit\n"
          ]
        }
      ]
    },
    {
      "cell_type": "code",
      "source": [
        "print(\"Variables internas del modelo:\")\n",
        "#print(capa.get_weights()) Esto es para una capa\n",
        "print(oculta1.get_weights())\n",
        "print(oculta2.get_weights())\n",
        "print(salida.get_weights())\n"
      ],
      "metadata": {
        "colab": {
          "base_uri": "https://localhost:8080/"
        },
        "id": "b52zb6sHGu9x",
        "outputId": "8f2e7005-b2e6-4158-a9b9-884a68c88c11"
      },
      "execution_count": null,
      "outputs": [
        {
          "output_type": "stream",
          "name": "stdout",
          "text": [
            "Variables internas del modelo:\n",
            "[array([[-0.46343395,  0.06862845,  0.48136792]], dtype=float32), array([-3.6394072, -1.2015766,  3.6749582], dtype=float32)]\n",
            "[array([[ 0.3501049 ,  0.50948864, -0.70107365],\n",
            "       [ 0.82476705, -0.57863855,  0.05565281],\n",
            "       [-0.6630044 , -0.17874782,  0.39387497]], dtype=float32), array([-3.609964 , -3.4570057,  3.584788 ], dtype=float32)]\n",
            "[array([[-1.057651 ],\n",
            "       [-1.4854324],\n",
            "       [ 1.5649232]], dtype=float32), array([3.5658622], dtype=float32)]\n"
          ]
        }
      ]
    }
  ]
}